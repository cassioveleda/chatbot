{
 "cells": [
  {
   "cell_type": "code",
   "execution_count": 1,
   "metadata": {},
   "outputs": [],
   "source": [
    "import pandas as pd"
   ]
  },
  {
   "cell_type": "code",
   "execution_count": 2,
   "metadata": {},
   "outputs": [],
   "source": [
    "copacabana = pd.read_csv('copacabana_lat_lng.csv', delimiter=',')"
   ]
  },
  {
   "cell_type": "code",
   "execution_count": 3,
   "metadata": {},
   "outputs": [
    {
     "data": {
      "text/plain": [
       "Index(['Posicao', 'Quartos', 'Vagas', 'DistIpanema', 'DistPraia', 'DistFavela',\n",
       "       'RendaMedia', 'RendaMovel', 'RendaMovelRua', 'Vu2009', 'Mes', 'Idade',\n",
       "       'Tipologia', 'AreaConstruida', 'VAL_UNIT', 'X', 'Y', 'lat', 'lng'],\n",
       "      dtype='object')"
      ]
     },
     "execution_count": 3,
     "metadata": {},
     "output_type": "execute_result"
    }
   ],
   "source": [
    "copacabana.columns"
   ]
  },
  {
   "cell_type": "code",
   "execution_count": 4,
   "metadata": {},
   "outputs": [
    {
     "data": {
      "text/plain": [
       "count    1675.000000\n",
       "mean        1.767510\n",
       "std         1.142523\n",
       "min         0.010000\n",
       "25%         1.000000\n",
       "50%         2.000000\n",
       "75%         3.000000\n",
       "max         6.000000\n",
       "Name: Quartos, dtype: float64"
      ]
     },
     "execution_count": 4,
     "metadata": {},
     "output_type": "execute_result"
    }
   ],
   "source": [
    "copacabana['Quartos'].describe()"
   ]
  },
  {
   "cell_type": "code",
   "execution_count": 5,
   "metadata": {},
   "outputs": [
    {
     "data": {
      "text/plain": [
       "0       False\n",
       "1       False\n",
       "2       False\n",
       "3       False\n",
       "4       False\n",
       "        ...  \n",
       "1670    False\n",
       "1671    False\n",
       "1672    False\n",
       "1673    False\n",
       "1674    False\n",
       "Name: Quartos, Length: 1675, dtype: bool"
      ]
     },
     "execution_count": 5,
     "metadata": {},
     "output_type": "execute_result"
    }
   ],
   "source": [
    "copacabana['Quartos'] > 5"
   ]
  },
  {
   "cell_type": "code",
   "execution_count": 6,
   "metadata": {},
   "outputs": [
    {
     "data": {
      "text/html": [
       "<div>\n",
       "<style scoped>\n",
       "    .dataframe tbody tr th:only-of-type {\n",
       "        vertical-align: middle;\n",
       "    }\n",
       "\n",
       "    .dataframe tbody tr th {\n",
       "        vertical-align: top;\n",
       "    }\n",
       "\n",
       "    .dataframe thead th {\n",
       "        text-align: right;\n",
       "    }\n",
       "</style>\n",
       "<table border=\"1\" class=\"dataframe\">\n",
       "  <thead>\n",
       "    <tr style=\"text-align: right;\">\n",
       "      <th></th>\n",
       "      <th>Posicao</th>\n",
       "      <th>Quartos</th>\n",
       "      <th>Vagas</th>\n",
       "      <th>DistIpanema</th>\n",
       "      <th>DistPraia</th>\n",
       "      <th>DistFavela</th>\n",
       "      <th>RendaMedia</th>\n",
       "      <th>RendaMovel</th>\n",
       "      <th>RendaMovelRua</th>\n",
       "      <th>Vu2009</th>\n",
       "      <th>Mes</th>\n",
       "      <th>Idade</th>\n",
       "      <th>Tipologia</th>\n",
       "      <th>AreaConstruida</th>\n",
       "      <th>VAL_UNIT</th>\n",
       "      <th>X</th>\n",
       "      <th>Y</th>\n",
       "      <th>lat</th>\n",
       "      <th>lng</th>\n",
       "    </tr>\n",
       "  </thead>\n",
       "  <tbody>\n",
       "    <tr>\n",
       "      <td>748</td>\n",
       "      <td>1</td>\n",
       "      <td>6.0</td>\n",
       "      <td>2.0</td>\n",
       "      <td>2500</td>\n",
       "      <td>35</td>\n",
       "      <td>743</td>\n",
       "      <td>1524600</td>\n",
       "      <td>1275377</td>\n",
       "      <td>1399989</td>\n",
       "      <td>4100</td>\n",
       "      <td>360</td>\n",
       "      <td>58.0</td>\n",
       "      <td>1</td>\n",
       "      <td>668</td>\n",
       "      <td>4491</td>\n",
       "      <td>686456.25</td>\n",
       "      <td>7458801.05</td>\n",
       "      <td>-22.968592</td>\n",
       "      <td>-43.181221</td>\n",
       "    </tr>\n",
       "  </tbody>\n",
       "</table>\n",
       "</div>"
      ],
      "text/plain": [
       "     Posicao  Quartos  Vagas  DistIpanema  DistPraia  DistFavela  RendaMedia  \\\n",
       "748        1      6.0    2.0         2500         35         743     1524600   \n",
       "\n",
       "     RendaMovel  RendaMovelRua  Vu2009  Mes  Idade  Tipologia  AreaConstruida  \\\n",
       "748     1275377        1399989    4100  360   58.0          1             668   \n",
       "\n",
       "     VAL_UNIT          X           Y        lat        lng  \n",
       "748      4491  686456.25  7458801.05 -22.968592 -43.181221  "
      ]
     },
     "execution_count": 6,
     "metadata": {},
     "output_type": "execute_result"
    }
   ],
   "source": [
    "copacabana.loc[copacabana['Quartos'] == 6]"
   ]
  },
  {
   "cell_type": "code",
   "execution_count": 7,
   "metadata": {},
   "outputs": [
    {
     "data": {
      "text/html": [
       "<div>\n",
       "<style scoped>\n",
       "    .dataframe tbody tr th:only-of-type {\n",
       "        vertical-align: middle;\n",
       "    }\n",
       "\n",
       "    .dataframe tbody tr th {\n",
       "        vertical-align: top;\n",
       "    }\n",
       "\n",
       "    .dataframe thead th {\n",
       "        text-align: right;\n",
       "    }\n",
       "</style>\n",
       "<table border=\"1\" class=\"dataframe\">\n",
       "  <thead>\n",
       "    <tr style=\"text-align: right;\">\n",
       "      <th></th>\n",
       "      <th>Posicao</th>\n",
       "      <th>Quartos</th>\n",
       "      <th>Vagas</th>\n",
       "      <th>DistIpanema</th>\n",
       "      <th>DistPraia</th>\n",
       "      <th>DistFavela</th>\n",
       "      <th>RendaMedia</th>\n",
       "      <th>RendaMovel</th>\n",
       "      <th>RendaMovelRua</th>\n",
       "      <th>Vu2009</th>\n",
       "      <th>Mes</th>\n",
       "      <th>Idade</th>\n",
       "      <th>Tipologia</th>\n",
       "      <th>AreaConstruida</th>\n",
       "      <th>VAL_UNIT</th>\n",
       "      <th>X</th>\n",
       "      <th>Y</th>\n",
       "      <th>lat</th>\n",
       "      <th>lng</th>\n",
       "    </tr>\n",
       "  </thead>\n",
       "  <tbody>\n",
       "    <tr>\n",
       "      <td>173</td>\n",
       "      <td>1</td>\n",
       "      <td>5.0</td>\n",
       "      <td>0.01</td>\n",
       "      <td>2696</td>\n",
       "      <td>154</td>\n",
       "      <td>712</td>\n",
       "      <td>1083455</td>\n",
       "      <td>649733</td>\n",
       "      <td>866594</td>\n",
       "      <td>2000</td>\n",
       "      <td>425</td>\n",
       "      <td>55.0</td>\n",
       "      <td>1</td>\n",
       "      <td>38</td>\n",
       "      <td>6316</td>\n",
       "      <td>686522.9800</td>\n",
       "      <td>7458989.87</td>\n",
       "      <td>-22.966880</td>\n",
       "      <td>-43.180593</td>\n",
       "    </tr>\n",
       "    <tr>\n",
       "      <td>1521</td>\n",
       "      <td>1</td>\n",
       "      <td>5.0</td>\n",
       "      <td>3.00</td>\n",
       "      <td>3044</td>\n",
       "      <td>31</td>\n",
       "      <td>609</td>\n",
       "      <td>1524600</td>\n",
       "      <td>1168222</td>\n",
       "      <td>1346411</td>\n",
       "      <td>4100</td>\n",
       "      <td>405</td>\n",
       "      <td>34.0</td>\n",
       "      <td>1</td>\n",
       "      <td>430</td>\n",
       "      <td>5000</td>\n",
       "      <td>686965.3201</td>\n",
       "      <td>7459109.71</td>\n",
       "      <td>-22.965748</td>\n",
       "      <td>-43.176295</td>\n",
       "    </tr>\n",
       "  </tbody>\n",
       "</table>\n",
       "</div>"
      ],
      "text/plain": [
       "      Posicao  Quartos  Vagas  DistIpanema  DistPraia  DistFavela  RendaMedia  \\\n",
       "173         1      5.0   0.01         2696        154         712     1083455   \n",
       "1521        1      5.0   3.00         3044         31         609     1524600   \n",
       "\n",
       "      RendaMovel  RendaMovelRua  Vu2009  Mes  Idade  Tipologia  \\\n",
       "173       649733         866594    2000  425   55.0          1   \n",
       "1521     1168222        1346411    4100  405   34.0          1   \n",
       "\n",
       "      AreaConstruida  VAL_UNIT            X           Y        lat        lng  \n",
       "173               38      6316  686522.9800  7458989.87 -22.966880 -43.180593  \n",
       "1521             430      5000  686965.3201  7459109.71 -22.965748 -43.176295  "
      ]
     },
     "execution_count": 7,
     "metadata": {},
     "output_type": "execute_result"
    }
   ],
   "source": [
    "copacabana.loc[copacabana['Quartos'] == 5]"
   ]
  },
  {
   "cell_type": "code",
   "execution_count": 8,
   "metadata": {},
   "outputs": [
    {
     "data": {
      "text/plain": [
       "0       416005\n",
       "1       460009\n",
       "2       720012\n",
       "3       990000\n",
       "4       909976\n",
       "         ...  \n",
       "1670    479940\n",
       "1671    402040\n",
       "1672    600020\n",
       "1673    766705\n",
       "1674    683871\n",
       "Length: 1675, dtype: int64"
      ]
     },
     "execution_count": 8,
     "metadata": {},
     "output_type": "execute_result"
    }
   ],
   "source": [
    "copacabana['AreaConstruida'] * copacabana['VAL_UNIT']"
   ]
  },
  {
   "cell_type": "code",
   "execution_count": 9,
   "metadata": {},
   "outputs": [],
   "source": [
    "copacabana['TOTAL'] = copacabana['AreaConstruida'] * copacabana['VAL_UNIT']"
   ]
  },
  {
   "cell_type": "code",
   "execution_count": 10,
   "metadata": {},
   "outputs": [
    {
     "data": {
      "text/plain": [
       "count    1.675000e+03\n",
       "mean     5.862613e+05\n",
       "std      4.804788e+05\n",
       "min      6.000000e+04\n",
       "25%      3.000000e+05\n",
       "50%      4.500320e+05\n",
       "75%      7.200115e+05\n",
       "max      6.199912e+06\n",
       "Name: TOTAL, dtype: float64"
      ]
     },
     "execution_count": 10,
     "metadata": {},
     "output_type": "execute_result"
    }
   ],
   "source": [
    "copacabana['TOTAL'].describe()"
   ]
  },
  {
   "cell_type": "code",
   "execution_count": 11,
   "metadata": {},
   "outputs": [
    {
     "data": {
      "text/plain": [
       "1670    479940\n",
       "1671    402040\n",
       "1672    600020\n",
       "1673    766705\n",
       "1674    683871\n",
       "Name: TOTAL, dtype: int64"
      ]
     },
     "execution_count": 11,
     "metadata": {},
     "output_type": "execute_result"
    }
   ],
   "source": [
    "copacabana['TOTAL'].tail()"
   ]
  },
  {
   "cell_type": "code",
   "execution_count": 12,
   "metadata": {},
   "outputs": [
    {
     "data": {
      "text/plain": [
       "0    416005\n",
       "1    460009\n",
       "2    720012\n",
       "3    990000\n",
       "4    909976\n",
       "Name: TOTAL, dtype: int64"
      ]
     },
     "execution_count": 12,
     "metadata": {},
     "output_type": "execute_result"
    }
   ],
   "source": [
    "copacabana['TOTAL'].head()"
   ]
  }
 ],
 "metadata": {
  "kernelspec": {
   "display_name": "Python 3",
   "language": "python",
   "name": "python3"
  },
  "language_info": {
   "codemirror_mode": {
    "name": "ipython",
    "version": 3
   },
   "file_extension": ".py",
   "mimetype": "text/x-python",
   "name": "python",
   "nbconvert_exporter": "python",
   "pygments_lexer": "ipython3",
   "version": "3.7.4"
  }
 },
 "nbformat": 4,
 "nbformat_minor": 1
}
