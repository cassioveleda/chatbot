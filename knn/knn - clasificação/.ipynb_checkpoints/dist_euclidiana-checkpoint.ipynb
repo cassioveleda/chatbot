{
 "cells": [
  {
   "cell_type": "code",
   "execution_count": 1,
   "metadata": {},
   "outputs": [],
   "source": [
    "import math"
   ]
  },
  {
   "cell_type": "code",
   "execution_count": 3,
   "metadata": {},
   "outputs": [],
   "source": [
    "v1 = [1.2, 2, 3.8, 4.5]\n",
    "v2 = [0.5, 4.5, 9.6, 3.4]"
   ]
  },
  {
   "cell_type": "code",
   "execution_count": 4,
   "metadata": {},
   "outputs": [],
   "source": [
    "#dim == dimesão | .pow==potencia²\n",
    "def dist_euclidiana(v1, v2):\n",
    "\tdim, soma = len(v1), 0\n",
    "\tfor i in range(dim):\n",
    "\t\tsoma += math.pow(v1[i] - v2[i], 2)\n",
    "\treturn math.sqrt(soma)"
   ]
  },
  {
   "cell_type": "code",
   "execution_count": 5,
   "metadata": {},
   "outputs": [
    {
     "name": "stdout",
     "output_type": "stream",
     "text": [
      "6.45\n"
     ]
    }
   ],
   "source": [
    "print('%.2f' % dist_euclidiana(v1,v2))"
   ]
  },
  {
   "cell_type": "code",
   "execution_count": 6,
   "metadata": {},
   "outputs": [],
   "source": [
    "# distância euclidiana com numpy\n",
    "import numpy as np"
   ]
  },
  {
   "cell_type": "code",
   "execution_count": 7,
   "metadata": {},
   "outputs": [],
   "source": [
    "def dist_euclidiana_np(v1, v2):\n",
    "\tv1, v2 = np.array(v1), np.array(v2)\n",
    "\tdiff = v1 - v2\n",
    "\tquad_dist = np.dot(diff, diff)\n",
    "\treturn math.sqrt(quad_dist)"
   ]
  },
  {
   "cell_type": "code",
   "execution_count": 8,
   "metadata": {},
   "outputs": [
    {
     "name": "stdout",
     "output_type": "stream",
     "text": [
      "6.45\n"
     ]
    }
   ],
   "source": [
    "print('%.2f' % dist_euclidiana_np(v1,v2))"
   ]
  }
 ],
 "metadata": {
  "kernelspec": {
   "display_name": "Python 3",
   "language": "python",
   "name": "python3"
  },
  "language_info": {
   "codemirror_mode": {
    "name": "ipython",
    "version": 3
   },
   "file_extension": ".py",
   "mimetype": "text/x-python",
   "name": "python",
   "nbconvert_exporter": "python",
   "pygments_lexer": "ipython3",
   "version": "3.7.4"
  }
 },
 "nbformat": 4,
 "nbformat_minor": 2
}
