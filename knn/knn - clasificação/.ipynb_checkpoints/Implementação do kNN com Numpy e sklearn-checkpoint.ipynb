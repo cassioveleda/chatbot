{
 "cells": [
  {
   "cell_type": "code",
   "execution_count": 1,
   "metadata": {},
   "outputs": [],
   "source": [
    "'''\n",
    "Dataset: https://archive.ics.uci.edu/ml/datasets/Balance+Scale\n",
    "\n",
    "Attribute Information:\n",
    "\n",
    "1. Class Name: 3 (L, B, R) \n",
    "2. Left-Weight: 5 (1, 2, 3, 4, 5) \n",
    "3. Left-Distance: 5 (1, 2, 3, 4, 5) \n",
    "4. Right-Weight: 5 (1, 2, 3, 4, 5) \n",
    "5. Right-Distance: 5 (1, 2, 3, 4, 5)\n",
    "\n",
    "São 625 exemplos, 4 atributos e 3 possíveis classes.\n",
    "Onde tem \"L\" coloquei 1, onde tem \"B\" coloquei 2 e onde tem \"R\" coloquei 3.\n",
    "'''\n",
    "\n",
    "import numpy as np"
   ]
  },
  {
   "cell_type": "code",
   "execution_count": 2,
   "metadata": {},
   "outputs": [
    {
     "name": "stdout",
     "output_type": "stream",
     "text": [
      "625\n",
      "625\n",
      "[[1. 1. 1. 1.]\n",
      " [1. 1. 1. 2.]\n",
      " [1. 1. 1. 3.]\n",
      " ...\n",
      " [5. 5. 5. 3.]\n",
      " [5. 5. 5. 4.]\n",
      " [5. 5. 5. 5.]]\n",
      "[nan nan nan nan nan nan nan nan nan nan nan nan nan nan nan nan nan nan\n",
      " nan nan nan nan nan nan nan nan nan nan nan nan nan nan nan nan nan nan\n",
      " nan nan nan nan nan nan nan nan nan nan nan nan nan nan nan nan nan nan\n",
      " nan nan nan nan nan nan nan nan nan nan nan nan nan nan nan nan nan nan\n",
      " nan nan nan nan nan nan nan nan nan nan nan nan nan nan nan nan nan nan\n",
      " nan nan nan nan nan nan nan nan nan nan nan nan nan nan nan nan nan nan\n",
      " nan nan nan nan nan nan nan nan nan nan nan nan nan nan nan nan nan nan\n",
      " nan nan nan nan nan nan nan nan nan nan nan nan nan nan nan nan nan nan\n",
      " nan nan nan nan nan nan nan nan nan nan nan nan nan nan nan nan nan nan\n",
      " nan nan nan nan nan nan nan nan nan nan nan nan nan nan nan nan nan nan\n",
      " nan nan nan nan nan nan nan nan nan nan nan nan nan nan nan nan nan nan\n",
      " nan nan nan nan nan nan nan nan nan nan nan nan nan nan nan nan nan nan\n",
      " nan nan nan nan nan nan nan nan nan nan nan nan nan nan nan nan nan nan\n",
      " nan nan nan nan nan nan nan nan nan nan nan nan nan nan nan nan nan nan\n",
      " nan nan nan nan nan nan nan nan nan nan nan nan nan nan nan nan nan nan\n",
      " nan nan nan nan nan nan nan nan nan nan nan nan nan nan nan nan nan nan\n",
      " nan nan nan nan nan nan nan nan nan nan nan nan nan nan nan nan nan nan\n",
      " nan nan nan nan nan nan nan nan nan nan nan nan nan nan nan nan nan nan\n",
      " nan nan nan nan nan nan nan nan nan nan nan nan nan nan nan nan nan nan\n",
      " nan nan nan nan nan nan nan nan nan nan nan nan nan nan nan nan nan nan\n",
      " nan nan nan nan nan nan nan nan nan nan nan nan nan nan nan nan nan nan\n",
      " nan nan nan nan nan nan nan nan nan nan nan nan nan nan nan nan nan nan\n",
      " nan nan nan nan nan nan nan nan nan nan nan nan nan nan nan nan nan nan\n",
      " nan nan nan nan nan nan nan nan nan nan nan nan nan nan nan nan nan nan\n",
      " nan nan nan nan nan nan nan nan nan nan nan nan nan nan nan nan nan nan\n",
      " nan nan nan nan nan nan nan nan nan nan nan nan nan nan nan nan nan nan\n",
      " nan nan nan nan nan nan nan nan nan nan nan nan nan nan nan nan nan nan\n",
      " nan nan nan nan nan nan nan nan nan nan nan nan nan nan nan nan nan nan\n",
      " nan nan nan nan nan nan nan nan nan nan nan nan nan nan nan nan nan nan\n",
      " nan nan nan nan nan nan nan nan nan nan nan nan nan nan nan nan nan nan\n",
      " nan nan nan nan nan nan nan nan nan nan nan nan nan nan nan nan nan nan\n",
      " nan nan nan nan nan nan nan nan nan nan nan nan nan nan nan nan nan nan\n",
      " nan nan nan nan nan nan nan nan nan nan nan nan nan nan nan nan nan nan\n",
      " nan nan nan nan nan nan nan nan nan nan nan nan nan nan nan nan nan nan\n",
      " nan nan nan nan nan nan nan nan nan nan nan nan nan]\n"
     ]
    }
   ],
   "source": [
    "# x são as entradas e y são as saídas\n",
    "x = np.genfromtxt('original_dataset.data', delimiter=',', usecols=(1,2,3,4))\n",
    "y = np.genfromtxt('original_dataset.data', delimiter=',', usecols=(0))\n",
    "print(len(x))\n",
    "print(len(y))\n",
    "print(x)\n",
    "print(y)"
   ]
  },
  {
   "cell_type": "code",
   "execution_count": 3,
   "metadata": {},
   "outputs": [],
   "source": [
    "from sklearn.model_selection import train_test_split"
   ]
  },
  {
   "cell_type": "code",
   "execution_count": 4,
   "metadata": {},
   "outputs": [],
   "source": [
    "# doc: http://scikit-learn.org/stable/modules/generated/sklearn.model_selection.train_test_split.html\n",
    "x_treino, x_teste, y_treino, y_teste = train_test_split(x, y, test_size=0.3, random_state=42)"
   ]
  },
  {
   "cell_type": "code",
   "execution_count": 5,
   "metadata": {},
   "outputs": [
    {
     "name": "stdout",
     "output_type": "stream",
     "text": [
      "437\n"
     ]
    },
    {
     "data": {
      "text/plain": [
       "array([[2., 4., 1., 5.],\n",
       "       [1., 4., 3., 4.],\n",
       "       [5., 1., 5., 3.],\n",
       "       ...,\n",
       "       [3., 1., 5., 1.],\n",
       "       [4., 3., 3., 1.],\n",
       "       [1., 5., 1., 3.]])"
      ]
     },
     "execution_count": 5,
     "metadata": {},
     "output_type": "execute_result"
    }
   ],
   "source": [
    "print(len(x_treino))\n",
    "x_treino"
   ]
  },
  {
   "cell_type": "code",
   "execution_count": 6,
   "metadata": {},
   "outputs": [
    {
     "name": "stdout",
     "output_type": "stream",
     "text": [
      "188\n"
     ]
    },
    {
     "data": {
      "text/plain": [
       "array([[4., 3., 5., 3.],\n",
       "       [4., 5., 3., 1.],\n",
       "       [2., 4., 4., 1.],\n",
       "       [2., 4., 3., 3.],\n",
       "       [4., 5., 2., 1.],\n",
       "       [5., 1., 4., 1.],\n",
       "       [2., 2., 3., 4.],\n",
       "       [1., 4., 1., 3.],\n",
       "       [5., 2., 1., 3.],\n",
       "       [2., 1., 5., 1.],\n",
       "       [3., 1., 4., 1.],\n",
       "       [1., 2., 2., 2.],\n",
       "       [1., 3., 2., 1.],\n",
       "       [1., 4., 4., 1.],\n",
       "       [5., 3., 2., 3.],\n",
       "       [1., 4., 1., 2.],\n",
       "       [1., 1., 1., 3.],\n",
       "       [3., 5., 4., 4.],\n",
       "       [4., 1., 5., 1.],\n",
       "       [3., 2., 3., 2.],\n",
       "       [2., 1., 2., 2.],\n",
       "       [2., 1., 5., 4.],\n",
       "       [1., 2., 5., 5.],\n",
       "       [5., 5., 5., 2.],\n",
       "       [4., 3., 3., 3.],\n",
       "       [1., 5., 3., 1.],\n",
       "       [3., 1., 2., 3.],\n",
       "       [5., 4., 1., 4.],\n",
       "       [5., 5., 5., 1.],\n",
       "       [3., 1., 2., 2.],\n",
       "       [3., 4., 2., 5.],\n",
       "       [3., 1., 3., 2.],\n",
       "       [2., 3., 2., 5.],\n",
       "       [5., 3., 1., 5.],\n",
       "       [2., 1., 2., 3.],\n",
       "       [4., 5., 3., 3.],\n",
       "       [3., 4., 3., 1.],\n",
       "       [5., 5., 3., 3.],\n",
       "       [2., 3., 2., 2.],\n",
       "       [5., 4., 5., 5.],\n",
       "       [4., 1., 2., 2.],\n",
       "       [1., 2., 3., 5.],\n",
       "       [1., 4., 3., 2.],\n",
       "       [5., 5., 2., 4.],\n",
       "       [3., 3., 4., 4.],\n",
       "       [2., 4., 2., 4.],\n",
       "       [3., 1., 3., 1.],\n",
       "       [5., 1., 3., 4.],\n",
       "       [1., 4., 1., 4.],\n",
       "       [3., 4., 4., 5.],\n",
       "       [5., 3., 2., 2.],\n",
       "       [3., 2., 2., 2.],\n",
       "       [1., 1., 3., 1.],\n",
       "       [3., 1., 2., 5.],\n",
       "       [5., 5., 1., 1.],\n",
       "       [3., 3., 3., 2.],\n",
       "       [2., 1., 3., 1.],\n",
       "       [4., 3., 2., 5.],\n",
       "       [2., 4., 3., 1.],\n",
       "       [1., 2., 2., 1.],\n",
       "       [5., 4., 1., 5.],\n",
       "       [4., 5., 2., 3.],\n",
       "       [2., 3., 4., 3.],\n",
       "       [5., 1., 2., 5.],\n",
       "       [5., 4., 3., 4.],\n",
       "       [3., 3., 1., 1.],\n",
       "       [1., 3., 2., 2.],\n",
       "       [2., 3., 5., 2.],\n",
       "       [5., 2., 3., 1.],\n",
       "       [2., 5., 3., 1.],\n",
       "       [3., 1., 5., 3.],\n",
       "       [1., 1., 5., 5.],\n",
       "       [1., 4., 2., 3.],\n",
       "       [2., 2., 2., 4.],\n",
       "       [5., 2., 4., 4.],\n",
       "       [2., 4., 5., 1.],\n",
       "       [5., 4., 4., 3.],\n",
       "       [1., 3., 5., 1.],\n",
       "       [3., 5., 2., 3.],\n",
       "       [5., 1., 3., 3.],\n",
       "       [3., 5., 4., 5.],\n",
       "       [1., 3., 3., 1.],\n",
       "       [4., 1., 5., 4.],\n",
       "       [4., 2., 2., 1.],\n",
       "       [2., 4., 2., 5.],\n",
       "       [5., 4., 4., 5.],\n",
       "       [4., 4., 1., 1.],\n",
       "       [5., 3., 2., 5.],\n",
       "       [2., 2., 5., 5.],\n",
       "       [3., 5., 1., 1.],\n",
       "       [3., 1., 1., 1.],\n",
       "       [3., 3., 1., 2.],\n",
       "       [1., 2., 1., 5.],\n",
       "       [5., 3., 5., 1.],\n",
       "       [1., 5., 1., 2.],\n",
       "       [2., 4., 4., 4.],\n",
       "       [3., 2., 4., 3.],\n",
       "       [3., 1., 5., 5.],\n",
       "       [4., 2., 4., 3.],\n",
       "       [3., 1., 5., 2.],\n",
       "       [2., 4., 1., 4.],\n",
       "       [5., 2., 2., 5.],\n",
       "       [4., 2., 5., 2.],\n",
       "       [3., 2., 2., 5.],\n",
       "       [2., 5., 2., 2.],\n",
       "       [1., 4., 2., 2.],\n",
       "       [3., 4., 4., 1.],\n",
       "       [1., 5., 2., 5.],\n",
       "       [4., 3., 4., 4.],\n",
       "       [2., 5., 1., 3.],\n",
       "       [1., 3., 3., 4.],\n",
       "       [2., 2., 2., 1.],\n",
       "       [1., 3., 5., 3.],\n",
       "       [4., 1., 2., 3.],\n",
       "       [5., 4., 2., 4.],\n",
       "       [1., 5., 4., 4.],\n",
       "       [5., 4., 2., 5.],\n",
       "       [3., 3., 3., 1.],\n",
       "       [5., 4., 2., 1.],\n",
       "       [2., 4., 3., 2.],\n",
       "       [2., 1., 4., 1.],\n",
       "       [5., 3., 5., 4.],\n",
       "       [2., 5., 1., 4.],\n",
       "       [4., 2., 3., 3.],\n",
       "       [2., 3., 3., 4.],\n",
       "       [5., 1., 3., 5.],\n",
       "       [4., 4., 4., 5.],\n",
       "       [1., 1., 2., 2.],\n",
       "       [1., 5., 1., 5.],\n",
       "       [1., 5., 3., 5.],\n",
       "       [4., 5., 1., 3.],\n",
       "       [4., 5., 5., 2.],\n",
       "       [4., 5., 4., 5.],\n",
       "       [5., 3., 4., 4.],\n",
       "       [4., 3., 1., 4.],\n",
       "       [3., 3., 1., 5.],\n",
       "       [4., 2., 4., 1.],\n",
       "       [4., 1., 5., 5.],\n",
       "       [3., 2., 4., 1.],\n",
       "       [5., 3., 2., 4.],\n",
       "       [2., 3., 1., 3.],\n",
       "       [4., 4., 5., 4.],\n",
       "       [1., 2., 4., 3.],\n",
       "       [1., 3., 5., 4.],\n",
       "       [5., 2., 4., 2.],\n",
       "       [1., 3., 4., 2.],\n",
       "       [1., 1., 3., 2.],\n",
       "       [3., 4., 2., 3.],\n",
       "       [2., 5., 4., 5.],\n",
       "       [5., 2., 5., 4.],\n",
       "       [2., 3., 5., 5.],\n",
       "       [1., 4., 2., 4.],\n",
       "       [4., 3., 4., 5.],\n",
       "       [3., 5., 3., 4.],\n",
       "       [1., 4., 1., 5.],\n",
       "       [1., 1., 5., 4.],\n",
       "       [4., 1., 4., 1.],\n",
       "       [3., 3., 2., 1.],\n",
       "       [2., 2., 4., 1.],\n",
       "       [5., 5., 4., 2.],\n",
       "       [3., 4., 3., 2.],\n",
       "       [2., 4., 3., 4.],\n",
       "       [2., 1., 3., 3.],\n",
       "       [5., 3., 3., 4.],\n",
       "       [5., 2., 5., 1.],\n",
       "       [2., 3., 1., 2.],\n",
       "       [1., 1., 2., 5.],\n",
       "       [4., 2., 2., 3.],\n",
       "       [2., 5., 3., 4.],\n",
       "       [4., 2., 2., 4.],\n",
       "       [5., 5., 3., 1.],\n",
       "       [3., 1., 4., 4.],\n",
       "       [1., 4., 2., 5.],\n",
       "       [3., 2., 4., 2.],\n",
       "       [3., 3., 3., 3.],\n",
       "       [3., 3., 5., 1.],\n",
       "       [4., 2., 1., 4.],\n",
       "       [5., 5., 2., 2.],\n",
       "       [2., 5., 5., 3.],\n",
       "       [5., 1., 2., 2.],\n",
       "       [3., 2., 5., 5.],\n",
       "       [2., 2., 1., 4.],\n",
       "       [1., 4., 1., 1.],\n",
       "       [1., 4., 4., 3.],\n",
       "       [3., 3., 5., 2.],\n",
       "       [1., 3., 4., 4.],\n",
       "       [1., 1., 4., 1.],\n",
       "       [4., 1., 2., 1.]])"
      ]
     },
     "execution_count": 6,
     "metadata": {},
     "output_type": "execute_result"
    }
   ],
   "source": [
    "print(len(x_teste))\n",
    "x_teste"
   ]
  },
  {
   "cell_type": "code",
   "execution_count": 7,
   "metadata": {},
   "outputs": [
    {
     "data": {
      "text/plain": [
       "nan"
      ]
     },
     "execution_count": 7,
     "metadata": {},
     "output_type": "execute_result"
    }
   ],
   "source": [
    "y_teste[0]"
   ]
  },
  {
   "cell_type": "code",
   "execution_count": 8,
   "metadata": {},
   "outputs": [
    {
     "ename": "ValueError",
     "evalue": "Input contains NaN, infinity or a value too large for dtype('float64').",
     "output_type": "error",
     "traceback": [
      "\u001b[1;31m---------------------------------------------------------------------------\u001b[0m",
      "\u001b[1;31mValueError\u001b[0m                                Traceback (most recent call last)",
      "\u001b[1;32m<ipython-input-8-5b78e1ed223f>\u001b[0m in \u001b[0;36m<module>\u001b[1;34m\u001b[0m\n\u001b[0;32m      1\u001b[0m \u001b[1;32mfrom\u001b[0m \u001b[0msklearn\u001b[0m\u001b[1;33m.\u001b[0m\u001b[0mneighbors\u001b[0m \u001b[1;32mimport\u001b[0m \u001b[0mKNeighborsClassifier\u001b[0m\u001b[1;33m\u001b[0m\u001b[1;33m\u001b[0m\u001b[0m\n\u001b[0;32m      2\u001b[0m \u001b[0mknn\u001b[0m \u001b[1;33m=\u001b[0m \u001b[0mKNeighborsClassifier\u001b[0m\u001b[1;33m(\u001b[0m\u001b[0mn_neighbors\u001b[0m\u001b[1;33m=\u001b[0m\u001b[1;36m17\u001b[0m\u001b[1;33m,\u001b[0m \u001b[0mp\u001b[0m\u001b[1;33m=\u001b[0m\u001b[1;36m2\u001b[0m\u001b[1;33m)\u001b[0m\u001b[1;33m\u001b[0m\u001b[1;33m\u001b[0m\u001b[0m\n\u001b[1;32m----> 3\u001b[1;33m \u001b[0mknn\u001b[0m\u001b[1;33m.\u001b[0m\u001b[0mfit\u001b[0m\u001b[1;33m(\u001b[0m\u001b[0mx_treino\u001b[0m\u001b[1;33m,\u001b[0m \u001b[0my_treino\u001b[0m\u001b[1;33m)\u001b[0m\u001b[1;33m\u001b[0m\u001b[1;33m\u001b[0m\u001b[0m\n\u001b[0m\u001b[0;32m      4\u001b[0m \u001b[0mlabels\u001b[0m \u001b[1;33m=\u001b[0m \u001b[0mknn\u001b[0m\u001b[1;33m.\u001b[0m\u001b[0mpredict\u001b[0m\u001b[1;33m(\u001b[0m\u001b[0mx_teste\u001b[0m\u001b[1;33m)\u001b[0m\u001b[1;33m\u001b[0m\u001b[1;33m\u001b[0m\u001b[0m\n\u001b[0;32m      5\u001b[0m \u001b[0mprint\u001b[0m\u001b[1;33m(\u001b[0m\u001b[0mlen\u001b[0m\u001b[1;33m(\u001b[0m\u001b[0mlabels\u001b[0m\u001b[1;33m)\u001b[0m\u001b[1;33m)\u001b[0m\u001b[1;33m\u001b[0m\u001b[1;33m\u001b[0m\u001b[0m\n",
      "\u001b[1;32m~\\AppData\\Local\\Continuum\\anaconda3\\lib\\site-packages\\sklearn\\neighbors\\base.py\u001b[0m in \u001b[0;36mfit\u001b[1;34m(self, X, y)\u001b[0m\n\u001b[0;32m    890\u001b[0m         \"\"\"\n\u001b[0;32m    891\u001b[0m         \u001b[1;32mif\u001b[0m \u001b[1;32mnot\u001b[0m \u001b[0misinstance\u001b[0m\u001b[1;33m(\u001b[0m\u001b[0mX\u001b[0m\u001b[1;33m,\u001b[0m \u001b[1;33m(\u001b[0m\u001b[0mKDTree\u001b[0m\u001b[1;33m,\u001b[0m \u001b[0mBallTree\u001b[0m\u001b[1;33m)\u001b[0m\u001b[1;33m)\u001b[0m\u001b[1;33m:\u001b[0m\u001b[1;33m\u001b[0m\u001b[1;33m\u001b[0m\u001b[0m\n\u001b[1;32m--> 892\u001b[1;33m             \u001b[0mX\u001b[0m\u001b[1;33m,\u001b[0m \u001b[0my\u001b[0m \u001b[1;33m=\u001b[0m \u001b[0mcheck_X_y\u001b[0m\u001b[1;33m(\u001b[0m\u001b[0mX\u001b[0m\u001b[1;33m,\u001b[0m \u001b[0my\u001b[0m\u001b[1;33m,\u001b[0m \u001b[1;34m\"csr\"\u001b[0m\u001b[1;33m,\u001b[0m \u001b[0mmulti_output\u001b[0m\u001b[1;33m=\u001b[0m\u001b[1;32mTrue\u001b[0m\u001b[1;33m)\u001b[0m\u001b[1;33m\u001b[0m\u001b[1;33m\u001b[0m\u001b[0m\n\u001b[0m\u001b[0;32m    893\u001b[0m \u001b[1;33m\u001b[0m\u001b[0m\n\u001b[0;32m    894\u001b[0m         \u001b[1;32mif\u001b[0m \u001b[0my\u001b[0m\u001b[1;33m.\u001b[0m\u001b[0mndim\u001b[0m \u001b[1;33m==\u001b[0m \u001b[1;36m1\u001b[0m \u001b[1;32mor\u001b[0m \u001b[0my\u001b[0m\u001b[1;33m.\u001b[0m\u001b[0mndim\u001b[0m \u001b[1;33m==\u001b[0m \u001b[1;36m2\u001b[0m \u001b[1;32mand\u001b[0m \u001b[0my\u001b[0m\u001b[1;33m.\u001b[0m\u001b[0mshape\u001b[0m\u001b[1;33m[\u001b[0m\u001b[1;36m1\u001b[0m\u001b[1;33m]\u001b[0m \u001b[1;33m==\u001b[0m \u001b[1;36m1\u001b[0m\u001b[1;33m:\u001b[0m\u001b[1;33m\u001b[0m\u001b[1;33m\u001b[0m\u001b[0m\n",
      "\u001b[1;32m~\\AppData\\Local\\Continuum\\anaconda3\\lib\\site-packages\\sklearn\\utils\\validation.py\u001b[0m in \u001b[0;36mcheck_X_y\u001b[1;34m(X, y, accept_sparse, accept_large_sparse, dtype, order, copy, force_all_finite, ensure_2d, allow_nd, multi_output, ensure_min_samples, ensure_min_features, y_numeric, warn_on_dtype, estimator)\u001b[0m\n\u001b[0;32m    720\u001b[0m     \u001b[1;32mif\u001b[0m \u001b[0mmulti_output\u001b[0m\u001b[1;33m:\u001b[0m\u001b[1;33m\u001b[0m\u001b[1;33m\u001b[0m\u001b[0m\n\u001b[0;32m    721\u001b[0m         y = check_array(y, 'csr', force_all_finite=True, ensure_2d=False,\n\u001b[1;32m--> 722\u001b[1;33m                         dtype=None)\n\u001b[0m\u001b[0;32m    723\u001b[0m     \u001b[1;32melse\u001b[0m\u001b[1;33m:\u001b[0m\u001b[1;33m\u001b[0m\u001b[1;33m\u001b[0m\u001b[0m\n\u001b[0;32m    724\u001b[0m         \u001b[0my\u001b[0m \u001b[1;33m=\u001b[0m \u001b[0mcolumn_or_1d\u001b[0m\u001b[1;33m(\u001b[0m\u001b[0my\u001b[0m\u001b[1;33m,\u001b[0m \u001b[0mwarn\u001b[0m\u001b[1;33m=\u001b[0m\u001b[1;32mTrue\u001b[0m\u001b[1;33m)\u001b[0m\u001b[1;33m\u001b[0m\u001b[1;33m\u001b[0m\u001b[0m\n",
      "\u001b[1;32m~\\AppData\\Local\\Continuum\\anaconda3\\lib\\site-packages\\sklearn\\utils\\validation.py\u001b[0m in \u001b[0;36mcheck_array\u001b[1;34m(array, accept_sparse, accept_large_sparse, dtype, order, copy, force_all_finite, ensure_2d, allow_nd, ensure_min_samples, ensure_min_features, warn_on_dtype, estimator)\u001b[0m\n\u001b[0;32m    540\u001b[0m         \u001b[1;32mif\u001b[0m \u001b[0mforce_all_finite\u001b[0m\u001b[1;33m:\u001b[0m\u001b[1;33m\u001b[0m\u001b[1;33m\u001b[0m\u001b[0m\n\u001b[0;32m    541\u001b[0m             _assert_all_finite(array,\n\u001b[1;32m--> 542\u001b[1;33m                                allow_nan=force_all_finite == 'allow-nan')\n\u001b[0m\u001b[0;32m    543\u001b[0m \u001b[1;33m\u001b[0m\u001b[0m\n\u001b[0;32m    544\u001b[0m     \u001b[1;32mif\u001b[0m \u001b[0mensure_min_samples\u001b[0m \u001b[1;33m>\u001b[0m \u001b[1;36m0\u001b[0m\u001b[1;33m:\u001b[0m\u001b[1;33m\u001b[0m\u001b[1;33m\u001b[0m\u001b[0m\n",
      "\u001b[1;32m~\\AppData\\Local\\Continuum\\anaconda3\\lib\\site-packages\\sklearn\\utils\\validation.py\u001b[0m in \u001b[0;36m_assert_all_finite\u001b[1;34m(X, allow_nan)\u001b[0m\n\u001b[0;32m     54\u001b[0m                 not allow_nan and not np.isfinite(X).all()):\n\u001b[0;32m     55\u001b[0m             \u001b[0mtype_err\u001b[0m \u001b[1;33m=\u001b[0m \u001b[1;34m'infinity'\u001b[0m \u001b[1;32mif\u001b[0m \u001b[0mallow_nan\u001b[0m \u001b[1;32melse\u001b[0m \u001b[1;34m'NaN, infinity'\u001b[0m\u001b[1;33m\u001b[0m\u001b[1;33m\u001b[0m\u001b[0m\n\u001b[1;32m---> 56\u001b[1;33m             \u001b[1;32mraise\u001b[0m \u001b[0mValueError\u001b[0m\u001b[1;33m(\u001b[0m\u001b[0mmsg_err\u001b[0m\u001b[1;33m.\u001b[0m\u001b[0mformat\u001b[0m\u001b[1;33m(\u001b[0m\u001b[0mtype_err\u001b[0m\u001b[1;33m,\u001b[0m \u001b[0mX\u001b[0m\u001b[1;33m.\u001b[0m\u001b[0mdtype\u001b[0m\u001b[1;33m)\u001b[0m\u001b[1;33m)\u001b[0m\u001b[1;33m\u001b[0m\u001b[1;33m\u001b[0m\u001b[0m\n\u001b[0m\u001b[0;32m     57\u001b[0m     \u001b[1;31m# for object dtype data, we only check for NaNs (GH-13254)\u001b[0m\u001b[1;33m\u001b[0m\u001b[1;33m\u001b[0m\u001b[1;33m\u001b[0m\u001b[0m\n\u001b[0;32m     58\u001b[0m     \u001b[1;32melif\u001b[0m \u001b[0mX\u001b[0m\u001b[1;33m.\u001b[0m\u001b[0mdtype\u001b[0m \u001b[1;33m==\u001b[0m \u001b[0mnp\u001b[0m\u001b[1;33m.\u001b[0m\u001b[0mdtype\u001b[0m\u001b[1;33m(\u001b[0m\u001b[1;34m'object'\u001b[0m\u001b[1;33m)\u001b[0m \u001b[1;32mand\u001b[0m \u001b[1;32mnot\u001b[0m \u001b[0mallow_nan\u001b[0m\u001b[1;33m:\u001b[0m\u001b[1;33m\u001b[0m\u001b[1;33m\u001b[0m\u001b[0m\n",
      "\u001b[1;31mValueError\u001b[0m: Input contains NaN, infinity or a value too large for dtype('float64')."
     ]
    }
   ],
   "source": [
    "from sklearn.neighbors import KNeighborsClassifier\n",
    "knn = KNeighborsClassifier(n_neighbors=17, p=2)\n",
    "knn.fit(x_treino, y_treino)\n",
    "labels = knn.predict(x_teste)\n",
    "print(len(labels))\n",
    "labels"
   ]
  },
  {
   "cell_type": "code",
   "execution_count": null,
   "metadata": {},
   "outputs": [],
   "source": [
    "y_teste"
   ]
  },
  {
   "cell_type": "code",
   "execution_count": null,
   "metadata": {},
   "outputs": [],
   "source": [
    "np.sum(labels == y_teste)"
   ]
  },
  {
   "cell_type": "code",
   "execution_count": null,
   "metadata": {},
   "outputs": [],
   "source": [
    "(labels == y_teste).sum()"
   ]
  },
  {
   "cell_type": "code",
   "execution_count": null,
   "metadata": {},
   "outputs": [],
   "source": [
    "100 * (labels == y_teste).sum() / len(x_teste)"
   ]
  },
  {
   "cell_type": "code",
   "execution_count": null,
   "metadata": {},
   "outputs": [],
   "source": [
    "knn.score(x_teste, y_teste)"
   ]
  },
  {
   "cell_type": "code",
   "execution_count": null,
   "metadata": {},
   "outputs": [],
   "source": [
    "np.mean(labels == y_teste)"
   ]
  }
 ],
 "metadata": {
  "kernelspec": {
   "display_name": "Python 3",
   "language": "python",
   "name": "python3"
  },
  "language_info": {
   "codemirror_mode": {
    "name": "ipython",
    "version": 3
   },
   "file_extension": ".py",
   "mimetype": "text/x-python",
   "name": "python",
   "nbconvert_exporter": "python",
   "pygments_lexer": "ipython3",
   "version": "3.7.4"
  }
 },
 "nbformat": 4,
 "nbformat_minor": 1
}
