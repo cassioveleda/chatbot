{
 "cells": [
  {
   "cell_type": "code",
   "execution_count": 1,
   "metadata": {},
   "outputs": [],
   "source": [
    "'''\n",
    "\tImplementação do kNN com sklearn\n",
    "\tdataset: https://archive.ics.uci.edu/ml/datasets/Haberman%27s+Survival\n",
    "\tSobrevivência de pacientes submetidos a cirurgia de câncer de mama\n",
    "'''\n",
    "from sklearn.neighbors import KNeighborsClassifier"
   ]
  },
  {
   "cell_type": "code",
   "execution_count": 2,
   "metadata": {},
   "outputs": [],
   "source": [
    "entradas, saidas = [], []"
   ]
  },
  {
   "cell_type": "code",
   "execution_count": 3,
   "metadata": {},
   "outputs": [],
   "source": [
    "with open('dataset.data', 'r') as f:\n",
    "\tfor linha in f.readlines():\n",
    "\t\tatrib = linha.replace('\\n','').split(',')\n",
    "\t\t# desconsiderando o ano da operação\n",
    "\t\tentradas.append([int(atrib[0]), int(atrib[2])])\n",
    "\t\tsaidas.append(int(atrib[3]))"
   ]
  },
  {
   "cell_type": "code",
   "execution_count": 4,
   "metadata": {},
   "outputs": [
    {
     "data": {
      "text/plain": [
       "KNeighborsClassifier(algorithm='auto', leaf_size=30, metric='minkowski',\n",
       "                     metric_params=None, n_jobs=None, n_neighbors=1, p=2,\n",
       "                     weights='uniform')"
      ]
     },
     "execution_count": 4,
     "metadata": {},
     "output_type": "execute_result"
    }
   ],
   "source": [
    "p = 0.6\n",
    "limite = int(p * len(entradas))\n",
    "knn = KNeighborsClassifier(n_neighbors=1)\n",
    "knn.fit(entradas[:limite], saidas[:limite])"
   ]
  },
  {
   "cell_type": "code",
   "execution_count": 5,
   "metadata": {},
   "outputs": [],
   "source": [
    "labels = knn.predict(entradas[limite:])\n",
    "acertos, indice_label = 0, 0\n",
    "for i in range(limite, len(entradas)):\n",
    "\tif labels[indice_label] == saidas[i]:\n",
    "\t\tacertos += 1\n",
    "\tindice_label += 1"
   ]
  },
  {
   "cell_type": "code",
   "execution_count": 6,
   "metadata": {},
   "outputs": [
    {
     "name": "stdout",
     "output_type": "stream",
     "text": [
      "Total de treinamento: 183\n",
      "Total de testes: 123\n",
      "Total de acertos: 93\n",
      "Porcentagem de acertos: 75.61%\n"
     ]
    }
   ],
   "source": [
    "print('Total de treinamento: %d' % limite)\n",
    "print('Total de testes: %d' % (len(entradas) - limite))\n",
    "print('Total de acertos: %d' % acertos)\n",
    "print('Porcentagem de acertos: %.2f%%' % (100 * acertos / (len(entradas) - limite)))"
   ]
  }
 ],
 "metadata": {
  "kernelspec": {
   "display_name": "Python 3",
   "language": "python",
   "name": "python3"
  },
  "language_info": {
   "codemirror_mode": {
    "name": "ipython",
    "version": 3
   },
   "file_extension": ".py",
   "mimetype": "text/x-python",
   "name": "python",
   "nbconvert_exporter": "python",
   "pygments_lexer": "ipython3",
   "version": "3.7.4"
  }
 },
 "nbformat": 4,
 "nbformat_minor": 2
}
