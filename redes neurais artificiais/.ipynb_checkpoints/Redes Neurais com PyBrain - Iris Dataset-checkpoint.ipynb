{
 "cells": [
  {
   "cell_type": "code",
   "execution_count": 1,
   "metadata": {},
   "outputs": [
    {
     "name": "stdout",
     "output_type": "stream",
     "text": [
      "150\n",
      "150\n"
     ]
    }
   ],
   "source": [
    "import numpy as np\n",
    "\n",
    "# carregando os dados com numpy\n",
    "entradas = np.genfromtxt('iris.data', delimiter=',', usecols=(0,1,2,3))\n",
    "saidas = np.genfromtxt('iris.data', delimiter=',', usecols=(4))\n",
    "print(len(entradas))\n",
    "print(len(saidas))"
   ]
  },
  {
   "cell_type": "code",
   "execution_count": 2,
   "metadata": {},
   "outputs": [
    {
     "name": "stdout",
     "output_type": "stream",
     "text": [
      "[[5.1 3.5 1.4 0.2]\n",
      " [4.9 3.  1.4 0.2]\n",
      " [4.7 3.2 1.3 0.2]\n",
      " [4.6 3.1 1.5 0.2]\n",
      " [5.  3.6 1.4 0.2]]\n",
      "[0. 0. 0. 0. 0.]\n",
      "---------------------\n",
      "[[6.7 3.  5.2 2.3]\n",
      " [6.3 2.5 5.  1.9]\n",
      " [6.5 3.  5.2 2. ]\n",
      " [6.2 3.4 5.4 2.3]\n",
      " [5.9 3.  5.1 1.8]]\n",
      "[2. 2. 2. 2. 2.]\n"
     ]
    }
   ],
   "source": [
    "'''\n",
    "Iris-setosa: 0\n",
    "Iris-versicolor: 1\n",
    "Iris-virginica: 2\n",
    "'''\n",
    "\n",
    "# mostrando as 5 primeiras amostras que são Iris-setosa\n",
    "print(entradas[:5])\n",
    "print(saidas[:5])\n",
    "\n",
    "print('---------------------')\n",
    "\n",
    "# mostrando as 5 últimas amostras que são de Iris-virginica\n",
    "print(entradas[-5:])\n",
    "print(saidas[-5:])"
   ]
  },
  {
   "cell_type": "code",
   "execution_count": 3,
   "metadata": {},
   "outputs": [
    {
     "name": "stdout",
     "output_type": "stream",
     "text": [
      "105\n",
      "105\n"
     ]
    }
   ],
   "source": [
    "# vou utilizar 105 amostras para treino sendo 35 de cada classe\n",
    "entradas_treino = np.concatenate((entradas[:35], entradas[50:85], entradas[100:135]))\n",
    "saidas_treino = np.concatenate((saidas[:35], saidas[50:85], saidas[100:135]))\n",
    "print(len(entradas_treino))\n",
    "print(len(saidas_treino))"
   ]
  },
  {
   "cell_type": "code",
   "execution_count": 4,
   "metadata": {},
   "outputs": [
    {
     "name": "stdout",
     "output_type": "stream",
     "text": [
      "45\n",
      "45\n"
     ]
    }
   ],
   "source": [
    "entradas_teste = np.concatenate((entradas[35:50], entradas[85:100], entradas[135:]))\n",
    "saidas_teste = np.concatenate((saidas[35:50], saidas[85:100], saidas[135:]))\n",
    "print(len(entradas_teste))\n",
    "print(len(saidas_teste))"
   ]
  },
  {
   "cell_type": "code",
   "execution_count": 5,
   "metadata": {},
   "outputs": [
    {
     "ename": "ModuleNotFoundError",
     "evalue": "No module named 'structure'",
     "output_type": "error",
     "traceback": [
      "\u001b[1;31m---------------------------------------------------------------------------\u001b[0m",
      "\u001b[1;31mModuleNotFoundError\u001b[0m                       Traceback (most recent call last)",
      "\u001b[1;32m<ipython-input-5-269ca1d73dd4>\u001b[0m in \u001b[0;36m<module>\u001b[1;34m\u001b[0m\n\u001b[1;32m----> 1\u001b[1;33m \u001b[1;32mfrom\u001b[0m \u001b[0mpybrain\u001b[0m\u001b[1;33m.\u001b[0m\u001b[0mdatasets\u001b[0m \u001b[1;32mimport\u001b[0m \u001b[0mSupervisedDataSet\u001b[0m\u001b[1;33m\u001b[0m\u001b[1;33m\u001b[0m\u001b[0m\n\u001b[0m\u001b[0;32m      2\u001b[0m \u001b[1;32mfrom\u001b[0m \u001b[0mpybrain\u001b[0m\u001b[1;33m.\u001b[0m\u001b[0mtools\u001b[0m\u001b[1;33m.\u001b[0m\u001b[0mshortcuts\u001b[0m \u001b[1;32mimport\u001b[0m \u001b[0mbuildNetwork\u001b[0m\u001b[1;33m\u001b[0m\u001b[1;33m\u001b[0m\u001b[0m\n\u001b[0;32m      3\u001b[0m \u001b[1;32mfrom\u001b[0m \u001b[0mpybrain\u001b[0m\u001b[1;33m.\u001b[0m\u001b[0msupervised\u001b[0m \u001b[1;32mimport\u001b[0m \u001b[0mBackpropTrainer\u001b[0m\u001b[1;33m\u001b[0m\u001b[1;33m\u001b[0m\u001b[0m\n",
      "\u001b[1;32m~\\AppData\\Local\\Continuum\\anaconda3\\lib\\site-packages\\pybrain\\__init__.py\u001b[0m in \u001b[0;36m<module>\u001b[1;34m\u001b[0m\n\u001b[1;32m----> 1\u001b[1;33m \u001b[1;32mfrom\u001b[0m \u001b[0mstructure\u001b[0m\u001b[1;33m.\u001b[0m\u001b[0m__init__\u001b[0m \u001b[1;32mimport\u001b[0m \u001b[1;33m*\u001b[0m\u001b[1;33m\u001b[0m\u001b[1;33m\u001b[0m\u001b[0m\n\u001b[0m",
      "\u001b[1;31mModuleNotFoundError\u001b[0m: No module named 'structure'"
     ]
    }
   ],
   "source": [
    "from pybrain.datasets import SupervisedDataSet\n",
    "from pybrain.tools.shortcuts import buildNetwork\n",
    "from pybrain.supervised import BackpropTrainer"
   ]
  },
  {
   "cell_type": "code",
   "execution_count": null,
   "metadata": {},
   "outputs": [],
   "source": [
    "treinamento = SupervisedDataSet(4, 1)\n",
    "for i in range(len(entradas_treino)):\n",
    "    treinamento.addSample(entradas_treino[i], saidas_treino[i])\n",
    "print(len(treinamento))\n",
    "print(treinamento.indim)\n",
    "print(treinamento.outdim)"
   ]
  },
  {
   "cell_type": "code",
   "execution_count": null,
   "metadata": {
    "scrolled": false
   },
   "outputs": [],
   "source": [
    "# construindo a rede\n",
    "rede = buildNetwork(treinamento.indim, 2, treinamento.outdim, bias=True)\n",
    "trainer = BackpropTrainer(rede, treinamento, learningrate=0.01, momentum=0.3)\n",
    "\n",
    "# treinando a rede\n",
    "for epoca in range(1000):\n",
    "    trainer.train()\n",
    "    \n",
    "# testando a rede\n",
    "teste = SupervisedDataSet(4, 1)\n",
    "for i in range(len(entradas_teste)):\n",
    "    teste.addSample(entradas_teste[i], saidas_teste[i])\n",
    "trainer.testOnData(teste, verbose=True)"
   ]
  },
  {
   "cell_type": "code",
   "execution_count": null,
   "metadata": {
    "scrolled": false
   },
   "outputs": [],
   "source": [
    "# construindo a rede\n",
    "rede = buildNetwork(treinamento.indim, 2, treinamento.outdim, bias=True)\n",
    "trainer = BackpropTrainer(rede, treinamento, learningrate=0.005, momentum=0.5)\n",
    "\n",
    "# treinando a rede\n",
    "for epoca in range(2000):\n",
    "    trainer.train()\n",
    "    \n",
    "# testando a rede\n",
    "teste = SupervisedDataSet(4, 1)\n",
    "for i in range(len(entradas_teste)):\n",
    "    teste.addSample(entradas_teste[i], saidas_teste[i])\n",
    "trainer.testOnData(teste, verbose=True)"
   ]
  },
  {
   "cell_type": "code",
   "execution_count": null,
   "metadata": {},
   "outputs": [],
   "source": [
    "# construindo a rede\n",
    "rede = buildNetwork(treinamento.indim, 2, treinamento.outdim, bias=True)\n",
    "trainer = BackpropTrainer(rede, treinamento, learningrate=0.01, momentum=0.7)\n",
    "\n",
    "# treinando a rede\n",
    "for epoca in range(1000):\n",
    "    trainer.train()\n",
    "    \n",
    "# testando a rede\n",
    "teste = SupervisedDataSet(4, 1)\n",
    "for i in range(len(entradas_teste)):\n",
    "    teste.addSample(entradas_teste[i], saidas_teste[i])\n",
    "trainer.testOnData(teste, verbose=True)"
   ]
  }
 ],
 "metadata": {
  "kernelspec": {
   "display_name": "Python 3",
   "language": "python",
   "name": "python3"
  },
  "language_info": {
   "codemirror_mode": {
    "name": "ipython",
    "version": 3
   },
   "file_extension": ".py",
   "mimetype": "text/x-python",
   "name": "python",
   "nbconvert_exporter": "python",
   "pygments_lexer": "ipython3",
   "version": "3.7.4"
  }
 },
 "nbformat": 4,
 "nbformat_minor": 1
}
