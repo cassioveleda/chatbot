{
 "cells": [
  {
   "cell_type": "code",
   "execution_count": 1,
   "metadata": {
    "collapsed": true
   },
   "outputs": [],
   "source": [
    "# Classificação com PyBrain - XOR de 3 dimensões\n",
    "from pybrain.datasets import SupervisedDataSet\n",
    "from pybrain.tools.shortcuts import buildNetwork\n",
    "from pybrain.supervised import BackpropTrainer"
   ]
  },
  {
   "cell_type": "code",
   "execution_count": 3,
   "metadata": {},
   "outputs": [],
   "source": [
    "dataset = SupervisedDataSet(3, 1)"
   ]
  },
  {
   "cell_type": "code",
   "execution_count": 5,
   "metadata": {},
   "outputs": [],
   "source": [
    "dataset.addSample([0,0,0], [0])\n",
    "dataset.addSample([0,0,1], [1])\n",
    "dataset.addSample([0,1,0], [1])\n",
    "dataset.addSample([0,1,1], [0])\n",
    "dataset.addSample([1,0,0], [1])\n",
    "dataset.addSample([1,0,1], [0])\n",
    "dataset.addSample([1,1,0], [0])\n",
    "dataset.addSample([1,1,1], [1])"
   ]
  },
  {
   "cell_type": "code",
   "execution_count": 11,
   "metadata": {},
   "outputs": [
    {
     "name": "stdout",
     "output_type": "stream",
     "text": [
      "\n",
      "Testing on data:\n",
      "('out:    ', '[-0.01 ]')\n",
      "('correct:', '[0     ]')\n",
      "error:  0.00004522\n",
      "('out:    ', '[0.904 ]')\n",
      "('correct:', '[1     ]')\n",
      "error:  0.00460023\n",
      "('out:    ', '[0.897 ]')\n",
      "('correct:', '[1     ]')\n",
      "error:  0.00535477\n",
      "('out:    ', '[0.297 ]')\n",
      "('correct:', '[0     ]')\n",
      "error:  0.04398284\n",
      "('out:    ', '[0.932 ]')\n",
      "('correct:', '[1     ]')\n",
      "error:  0.00233809\n",
      "('out:    ', '[0.106 ]')\n",
      "('correct:', '[0     ]')\n",
      "error:  0.00561082\n",
      "('out:    ', '[0.297 ]')\n",
      "('correct:', '[0     ]')\n",
      "error:  0.04423668\n",
      "('out:    ', '[0.212 ]')\n",
      "('correct:', '[1     ]')\n",
      "error:  0.31032448\n",
      "('All errors:', [4.5220884517945769e-05, 0.0046002292446947696, 0.0053547663918067402, 0.043982835940109842, 0.0023380885359949176, 0.0056108168187750463, 0.044236679213610575, 0.31032447948737557])\n",
      "('Average error:', 0.052061639564610677)\n",
      "('Max error:', 0.31032447948737557, 'Median error:', 0.0056108168187750463)\n"
     ]
    },
    {
     "data": {
      "text/plain": [
       "0.052061639564610677"
      ]
     },
     "execution_count": 11,
     "metadata": {},
     "output_type": "execute_result"
    }
   ],
   "source": [
    "network = buildNetwork(dataset.indim, 4, 4, dataset.outdim, bias=True)\n",
    "trainer = BackpropTrainer(network, dataset, learningrate=0.01, momentum=0.9)\n",
    "for i in range(1000):\n",
    "    trainer.train()\n",
    "    \n",
    "test = SupervisedDataSet(3, 1)\n",
    "test.addSample([0,0,0], [0])\n",
    "test.addSample([0,0,1], [1])\n",
    "test.addSample([0,1,0], [1])\n",
    "test.addSample([0,1,1], [0])\n",
    "test.addSample([1,0,0], [1])\n",
    "test.addSample([1,0,1], [0])\n",
    "test.addSample([1,1,0], [0])\n",
    "test.addSample([1,1,1], [1])\n",
    "\n",
    "trainer.testOnData(test, verbose=True)"
   ]
  },
  {
   "cell_type": "code",
   "execution_count": 12,
   "metadata": {},
   "outputs": [
    {
     "name": "stdout",
     "output_type": "stream",
     "text": [
      "\n",
      "Testing on data:\n",
      "('out:    ', '[0.517 ]')\n",
      "('correct:', '[0     ]')\n",
      "error:  0.13358478\n",
      "('out:    ', '[0.558 ]')\n",
      "('correct:', '[1     ]')\n",
      "error:  0.09767122\n",
      "('out:    ', '[0.464 ]')\n",
      "('correct:', '[1     ]')\n",
      "error:  0.14389746\n",
      "('out:    ', '[0.502 ]')\n",
      "('correct:', '[0     ]')\n",
      "error:  0.12616402\n",
      "('out:    ', '[0.578 ]')\n",
      "('correct:', '[1     ]')\n",
      "error:  0.08904368\n",
      "('out:    ', '[0.544 ]')\n",
      "('correct:', '[0     ]')\n",
      "error:  0.14815071\n",
      "('out:    ', '[0.502 ]')\n",
      "('correct:', '[0     ]')\n",
      "error:  0.12589724\n",
      "('out:    ', '[0.56  ]')\n",
      "('correct:', '[1     ]')\n",
      "error:  0.09659494\n",
      "('All errors:', [0.13358478487983544, 0.097671216717282766, 0.1438974554738407, 0.12616402091991616, 0.089043679864849706, 0.14815070533247668, 0.12589724443149386, 0.096594937648684626])\n",
      "('Average error:', 0.1201255056585475)\n",
      "('Max error:', 0.14815070533247668, 'Median error:', 0.12616402091991616)\n"
     ]
    },
    {
     "data": {
      "text/plain": [
       "0.1201255056585475"
      ]
     },
     "execution_count": 12,
     "metadata": {},
     "output_type": "execute_result"
    }
   ],
   "source": [
    "network = buildNetwork(dataset.indim, 6, 6, dataset.outdim, bias=True)\n",
    "trainer = BackpropTrainer(network, dataset, learningrate=0.01, momentum=0.9)\n",
    "for i in range(1000):\n",
    "    trainer.train()\n",
    "    \n",
    "test = SupervisedDataSet(3, 1)\n",
    "test.addSample([0,0,0], [0])\n",
    "test.addSample([0,0,1], [1])\n",
    "test.addSample([0,1,0], [1])\n",
    "test.addSample([0,1,1], [0])\n",
    "test.addSample([1,0,0], [1])\n",
    "test.addSample([1,0,1], [0])\n",
    "test.addSample([1,1,0], [0])\n",
    "test.addSample([1,1,1], [1])\n",
    "\n",
    "trainer.testOnData(test, verbose=True)"
   ]
  },
  {
   "cell_type": "code",
   "execution_count": 13,
   "metadata": {},
   "outputs": [
    {
     "name": "stdout",
     "output_type": "stream",
     "text": [
      "\n",
      "Testing on data:\n",
      "('out:    ', '[0     ]')\n",
      "('correct:', '[0     ]')\n",
      "error:  0.00000000\n",
      "('out:    ', '[1     ]')\n",
      "('correct:', '[1     ]')\n",
      "error:  0.00000000\n",
      "('out:    ', '[1     ]')\n",
      "('correct:', '[1     ]')\n",
      "error:  0.00000000\n",
      "('out:    ', '[0     ]')\n",
      "('correct:', '[0     ]')\n",
      "error:  0.00000000\n",
      "('out:    ', '[1     ]')\n",
      "('correct:', '[1     ]')\n",
      "error:  0.00000000\n",
      "('out:    ', '[0     ]')\n",
      "('correct:', '[0     ]')\n",
      "error:  0.00000000\n",
      "('out:    ', '[0     ]')\n",
      "('correct:', '[0     ]')\n",
      "error:  0.00000000\n",
      "('out:    ', '[1     ]')\n",
      "('correct:', '[1     ]')\n",
      "error:  0.00000000\n",
      "('All errors:', [7.4419287335596792e-17, 5.0616074227214541e-17, 1.1974657522940328e-15, 3.4383559353727077e-15, 3.6448278155577384e-17, 4.4265833763474663e-18, 2.5448041784190232e-15, 4.7523590624168686e-15])\n",
      "('Average error:', 1.5123618939496708e-15)\n",
      "('Max error:', 4.7523590624168686e-15, 'Median error:', 1.1974657522940328e-15)\n"
     ]
    },
    {
     "data": {
      "text/plain": [
       "1.5123618939496708e-15"
      ]
     },
     "execution_count": 13,
     "metadata": {},
     "output_type": "execute_result"
    }
   ],
   "source": [
    "network = buildNetwork(dataset.indim, 6, 6, dataset.outdim, bias=True)\n",
    "trainer = BackpropTrainer(network, dataset, learningrate=0.01, momentum=0.9)\n",
    "for i in range(1500):\n",
    "    trainer.train()\n",
    "    \n",
    "test = SupervisedDataSet(3, 1)\n",
    "test.addSample([0,0,0], [0])\n",
    "test.addSample([0,0,1], [1])\n",
    "test.addSample([0,1,0], [1])\n",
    "test.addSample([0,1,1], [0])\n",
    "test.addSample([1,0,0], [1])\n",
    "test.addSample([1,0,1], [0])\n",
    "test.addSample([1,1,0], [0])\n",
    "test.addSample([1,1,1], [1])\n",
    "\n",
    "trainer.testOnData(test, verbose=True)"
   ]
  },
  {
   "cell_type": "code",
   "execution_count": 19,
   "metadata": {},
   "outputs": [
    {
     "name": "stdout",
     "output_type": "stream",
     "text": [
      "\n",
      "Testing on data:\n",
      "('out:    ', '[0.046 ]')\n",
      "('correct:', '[0     ]')\n",
      "error:  0.00106635\n",
      "('out:    ', '[0.942 ]')\n",
      "('correct:', '[1     ]')\n",
      "error:  0.00169900\n",
      "('out:    ', '[0.953 ]')\n",
      "('correct:', '[1     ]')\n",
      "error:  0.00112468\n",
      "('out:    ', '[0.11  ]')\n",
      "('correct:', '[0     ]')\n",
      "error:  0.00599962\n",
      "('out:    ', '[0.921 ]')\n",
      "('correct:', '[1     ]')\n",
      "error:  0.00310764\n",
      "('out:    ', '[0.031 ]')\n",
      "('correct:', '[0     ]')\n",
      "error:  0.00046984\n",
      "('out:    ', '[0.041 ]')\n",
      "('correct:', '[0     ]')\n",
      "error:  0.00084710\n",
      "('out:    ', '[0.963 ]')\n",
      "('correct:', '[1     ]')\n",
      "error:  0.00069915\n",
      "('All errors:', [0.0010663469277409929, 0.0016989960073978444, 0.0011246847099733782, 0.0059996189367996847, 0.0031076419712408117, 0.00046983631269023601, 0.00084710199383338826, 0.0006991494286246703])\n",
      "('Average error:', 0.0018766720360376258)\n",
      "('Max error:', 0.0059996189367996847, 'Median error:', 0.0011246847099733782)\n"
     ]
    },
    {
     "data": {
      "text/plain": [
       "0.0018766720360376258"
      ]
     },
     "execution_count": 19,
     "metadata": {},
     "output_type": "execute_result"
    }
   ],
   "source": [
    "network = buildNetwork(dataset.indim, 2, dataset.outdim, bias=True)\n",
    "trainer = BackpropTrainer(network, dataset, learningrate=0.01, momentum=0.9)\n",
    "for i in range(1500):\n",
    "    trainer.train()\n",
    "    \n",
    "test = SupervisedDataSet(3, 1)\n",
    "test.addSample([0,0,0], [0])\n",
    "test.addSample([0,0,1], [1])\n",
    "test.addSample([0,1,0], [1])\n",
    "test.addSample([0,1,1], [0])\n",
    "test.addSample([1,0,0], [1])\n",
    "test.addSample([1,0,1], [0])\n",
    "test.addSample([1,1,0], [0])\n",
    "test.addSample([1,1,1], [1])\n",
    "\n",
    "trainer.testOnData(test, verbose=True)"
   ]
  }
 ],
 "metadata": {
  "kernelspec": {
   "display_name": "Python 3",
   "language": "python",
   "name": "python3"
  },
  "language_info": {
   "codemirror_mode": {
    "name": "ipython",
    "version": 3
   },
   "file_extension": ".py",
   "mimetype": "text/x-python",
   "name": "python",
   "nbconvert_exporter": "python",
   "pygments_lexer": "ipython3",
   "version": "3.7.4"
  }
 },
 "nbformat": 4,
 "nbformat_minor": 1
}
